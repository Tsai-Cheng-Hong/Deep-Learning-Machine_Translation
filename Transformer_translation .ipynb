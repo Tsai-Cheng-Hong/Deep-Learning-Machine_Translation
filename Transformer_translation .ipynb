{
  "nbformat": 4,
  "nbformat_minor": 0,
  "metadata": {
    "colab": {
      "name": "Seq2Seq_translation",
      "provenance": [],
      "collapsed_sections": []
    },
    "kernelspec": {
      "name": "python3",
      "display_name": "Python 3"
    },
    "language_info": {
      "name": "python"
    },
    "accelerator": "GPU"
  },
  "cells": [
    {
      "cell_type": "markdown",
      "source": [
        "### 1.匯入套件"
      ],
      "metadata": {
        "id": "DTNaFFJhs37-"
      }
    },
    {
      "cell_type": "code",
      "execution_count": null,
      "metadata": {
        "id": "Qog4uG0ufa54"
      },
      "outputs": [],
      "source": [
        "import pathlib\n",
        "import random\n",
        "import string\n",
        "import re\n",
        "import numpy as np\n",
        "import tensorflow as tf\n",
        "from tensorflow import keras\n",
        "from tensorflow.keras import layers\n",
        "from tensorflow.keras.layers import TextVectorization"
      ]
    },
    {
      "cell_type": "markdown",
      "source": [
        "### 2.下載Dataset"
      ],
      "metadata": {
        "id": "T204U2tgjV43"
      }
    },
    {
      "cell_type": "code",
      "source": [
        "text_file = keras.utils.get_file(\n",
        "    fname=\"spa-eng.zip\",\n",
        "    origin=\"http://storage.googleapis.com/download.tensorflow.org/data/spa-eng.zip\",\n",
        "    extract=True,\n",
        ")\n",
        "text_file = pathlib.Path(text_file).parent / \"spa-eng\" / \"spa.txt\""
      ],
      "metadata": {
        "colab": {
          "base_uri": "https://localhost:8080/"
        },
        "id": "MtE2gALXfnc2",
        "outputId": "c426ae54-f5cb-46bb-fff5-ea44ee99579b"
      },
      "execution_count": null,
      "outputs": [
        {
          "output_type": "stream",
          "name": "stdout",
          "text": [
            "Downloading data from http://storage.googleapis.com/download.tensorflow.org/data/spa-eng.zip\n",
            "2646016/2638744 [==============================] - 0s 0us/step\n",
            "2654208/2638744 [==============================] - 0s 0us/step\n"
          ]
        }
      ]
    },
    {
      "cell_type": "markdown",
      "source": [
        "### 3.加入起始和結束的Token"
      ],
      "metadata": {
        "id": "Fjzz9b_ojcE_"
      }
    },
    {
      "cell_type": "code",
      "source": [
        "with open(text_file) as f:\n",
        "    lines = f.read().split(\"\\n\")[:-1]\n",
        "text_pairs = []\n",
        "for line in lines:\n",
        "    eng, spa = line.split(\"\\t\")\n",
        "    spa = \"[start] \" + spa + \" [end]\"\n",
        "    text_pairs.append((eng, spa))"
      ],
      "metadata": {
        "id": "LBchXc6CfnUc"
      },
      "execution_count": null,
      "outputs": []
    },
    {
      "cell_type": "code",
      "source": [
        "for _ in range(5):\n",
        "    print(random.choice(text_pairs))"
      ],
      "metadata": {
        "colab": {
          "base_uri": "https://localhost:8080/"
        },
        "id": "OQjgJnhOfnOV",
        "outputId": "f98477bd-624b-434c-d50d-9a22948308f0"
      },
      "execution_count": null,
      "outputs": [
        {
          "output_type": "stream",
          "name": "stdout",
          "text": [
            "('I had my watch fixed.', '[start] Mandé mi reloj a arreglar. [end]')\n",
            "('She almost drowned.', '[start] Ella casi se ahogó. [end]')\n",
            "(\"Don't ever come back.\", '[start] No vuelvas nunca. [end]')\n",
            "('Tom seems surprisingly calm.', '[start] Tom parece sorprendentemente tranquilo. [end]')\n",
            "('She ignored him all day.', '[start] Ella lo ignoró durante todo el día. [end]')\n"
          ]
        }
      ]
    },
    {
      "cell_type": "markdown",
      "source": [
        "### 4.拆分訓練集、驗證集、測試集"
      ],
      "metadata": {
        "id": "W0fQvpz8jqQn"
      }
    },
    {
      "cell_type": "code",
      "source": [
        "random.shuffle(text_pairs)\n",
        "num_val_samples = int(0.15 * len(text_pairs))\n",
        "num_train_samples = len(text_pairs) - 2 * num_val_samples\n",
        "train_pairs = text_pairs[:num_train_samples]\n",
        "val_pairs = text_pairs[num_train_samples : num_train_samples + num_val_samples]\n",
        "test_pairs = text_pairs[num_train_samples + num_val_samples :]\n",
        "\n",
        "print(f\"{len(text_pairs)} total pairs\")\n",
        "print(f\"{len(train_pairs)} training pairs\")\n",
        "print(f\"{len(val_pairs)} validation pairs\")\n",
        "print(f\"{len(test_pairs)} test pairs\")"
      ],
      "metadata": {
        "colab": {
          "base_uri": "https://localhost:8080/"
        },
        "id": "o5hpGNKift66",
        "outputId": "3fb7b887-a350-4577-b580-c266d4bf0e3c"
      },
      "execution_count": null,
      "outputs": [
        {
          "output_type": "stream",
          "name": "stdout",
          "text": [
            "118964 total pairs\n",
            "83276 training pairs\n",
            "17844 validation pairs\n",
            "17844 test pairs\n"
          ]
        }
      ]
    },
    {
      "cell_type": "markdown",
      "source": [
        "### 5.向量化"
      ],
      "metadata": {
        "id": "p7ym5Vfnj0k3"
      }
    },
    {
      "cell_type": "code",
      "source": [
        "strip_chars = string.punctuation + \"¿\"\n",
        "strip_chars = strip_chars.replace(\"[\", \"\")\n",
        "strip_chars = strip_chars.replace(\"]\", \"\")\n",
        "\n",
        "vocab_size = 15000\n",
        "sequence_length = 20\n",
        "batch_size = 64\n",
        "\n",
        "\n",
        "def custom_standardization(input_string):\n",
        "    lowercase = tf.strings.lower(input_string)\n",
        "    return tf.strings.regex_replace(lowercase, \"[%s]\" % re.escape(strip_chars), \"\")\n",
        "\n",
        "\n",
        "eng_vectorization = TextVectorization(\n",
        "    max_tokens=vocab_size, output_mode=\"int\", output_sequence_length=sequence_length,\n",
        ")\n",
        "spa_vectorization = TextVectorization(\n",
        "    max_tokens=vocab_size,\n",
        "    output_mode=\"int\",\n",
        "    output_sequence_length=sequence_length + 1,\n",
        "    standardize=custom_standardization,\n",
        ")\n",
        "train_eng_texts = [pair[0] for pair in train_pairs]\n",
        "train_spa_texts = [pair[1] for pair in train_pairs]\n",
        "eng_vectorization.adapt(train_eng_texts)\n",
        "spa_vectorization.adapt(train_spa_texts)"
      ],
      "metadata": {
        "id": "tJIzdlI3ft4V"
      },
      "execution_count": null,
      "outputs": []
    },
    {
      "cell_type": "code",
      "source": [
        "def format_dataset(eng, spa):\n",
        "    eng = eng_vectorization(eng)\n",
        "    spa = spa_vectorization(spa)\n",
        "    return ({\"encoder_inputs\": eng, \"decoder_inputs\": spa[:, :-1],}, spa[:, 1:])\n",
        "\n",
        "\n",
        "def make_dataset(pairs):\n",
        "    eng_texts, spa_texts = zip(*pairs)\n",
        "    eng_texts = list(eng_texts)\n",
        "    spa_texts = list(spa_texts)\n",
        "    dataset = tf.data.Dataset.from_tensor_slices((eng_texts, spa_texts))\n",
        "    dataset = dataset.batch(batch_size)\n",
        "    dataset = dataset.map(format_dataset)\n",
        "    return dataset.shuffle(2048).prefetch(16).cache()\n",
        "\n",
        "\n",
        "train_ds = make_dataset(train_pairs)\n",
        "val_ds = make_dataset(val_pairs)"
      ],
      "metadata": {
        "id": "fqK0mzEvfty_"
      },
      "execution_count": null,
      "outputs": []
    },
    {
      "cell_type": "code",
      "source": [
        "for inputs, targets in train_ds.take(1):\n",
        "    print(f'inputs[\"encoder_inputs\"].shape: {inputs[\"encoder_inputs\"].shape}')\n",
        "    print(f'inputs[\"decoder_inputs\"].shape: {inputs[\"decoder_inputs\"].shape}')\n",
        "    print(f\"targets.shape: {targets.shape}\")"
      ],
      "metadata": {
        "colab": {
          "base_uri": "https://localhost:8080/"
        },
        "id": "GAyZD1Y9f1TX",
        "outputId": "d395a749-b0d0-4709-cd5b-e035d191f8fe"
      },
      "execution_count": null,
      "outputs": [
        {
          "output_type": "stream",
          "name": "stdout",
          "text": [
            "inputs[\"encoder_inputs\"].shape: (64, 20)\n",
            "inputs[\"decoder_inputs\"].shape: (64, 20)\n",
            "targets.shape: (64, 20)\n"
          ]
        }
      ]
    },
    {
      "cell_type": "markdown",
      "source": [
        "### 6.Transformer Model"
      ],
      "metadata": {
        "id": "8oOnPS2Aj4rP"
      }
    },
    {
      "cell_type": "code",
      "source": [
        "class TransformerEncoder(layers.Layer):\n",
        "    def __init__(self, embed_dim, dense_dim, num_heads, **kwargs):\n",
        "        super(TransformerEncoder, self).__init__(**kwargs)\n",
        "        self.embed_dim = embed_dim\n",
        "        self.dense_dim = dense_dim\n",
        "        self.num_heads = num_heads\n",
        "        self.attention = layers.MultiHeadAttention(\n",
        "            num_heads=num_heads, key_dim=embed_dim\n",
        "        )\n",
        "        self.dense_proj = keras.Sequential(\n",
        "            [layers.Dense(dense_dim, activation=\"relu\"), layers.Dense(embed_dim),]\n",
        "        )\n",
        "        self.layernorm_1 = layers.LayerNormalization()\n",
        "        self.layernorm_2 = layers.LayerNormalization()\n",
        "        self.supports_masking = True\n",
        "\n",
        "    def call(self, inputs, mask=None):\n",
        "        if mask is not None:\n",
        "            padding_mask = tf.cast(mask[:, tf.newaxis, tf.newaxis, :], dtype=\"int32\")\n",
        "        attention_output = self.attention(\n",
        "            query=inputs, value=inputs, key=inputs, attention_mask=padding_mask\n",
        "        )\n",
        "        proj_input = self.layernorm_1(inputs + attention_output)\n",
        "        proj_output = self.dense_proj(proj_input)\n",
        "        return self.layernorm_2(proj_input + proj_output)\n",
        "\n",
        "\n",
        "class PositionalEmbedding(layers.Layer):\n",
        "    def __init__(self, sequence_length, vocab_size, embed_dim, **kwargs):\n",
        "        super(PositionalEmbedding, self).__init__(**kwargs)\n",
        "        self.token_embeddings = layers.Embedding(\n",
        "            input_dim=vocab_size, output_dim=embed_dim\n",
        "        )\n",
        "        self.position_embeddings = layers.Embedding(\n",
        "            input_dim=sequence_length, output_dim=embed_dim\n",
        "        )\n",
        "        self.sequence_length = sequence_length\n",
        "        self.vocab_size = vocab_size\n",
        "        self.embed_dim = embed_dim\n",
        "\n",
        "    def call(self, inputs):\n",
        "        length = tf.shape(inputs)[-1]\n",
        "        positions = tf.range(start=0, limit=length, delta=1)\n",
        "        embedded_tokens = self.token_embeddings(inputs)\n",
        "        embedded_positions = self.position_embeddings(positions)\n",
        "        return embedded_tokens + embedded_positions\n",
        "\n",
        "    def compute_mask(self, inputs, mask=None):\n",
        "        return tf.math.not_equal(inputs, 0)\n",
        "\n",
        "\n",
        "class TransformerDecoder(layers.Layer):\n",
        "    def __init__(self, embed_dim, latent_dim, num_heads, **kwargs):\n",
        "        super(TransformerDecoder, self).__init__(**kwargs)\n",
        "        self.embed_dim = embed_dim\n",
        "        self.latent_dim = latent_dim\n",
        "        self.num_heads = num_heads\n",
        "        self.attention_1 = layers.MultiHeadAttention(\n",
        "            num_heads=num_heads, key_dim=embed_dim\n",
        "        )\n",
        "        self.attention_2 = layers.MultiHeadAttention(\n",
        "            num_heads=num_heads, key_dim=embed_dim\n",
        "        )\n",
        "        self.dense_proj = keras.Sequential(\n",
        "            [layers.Dense(latent_dim, activation=\"relu\"), layers.Dense(embed_dim),]\n",
        "        )\n",
        "        self.layernorm_1 = layers.LayerNormalization()\n",
        "        self.layernorm_2 = layers.LayerNormalization()\n",
        "        self.layernorm_3 = layers.LayerNormalization()\n",
        "        self.supports_masking = True\n",
        "\n",
        "    def call(self, inputs, encoder_outputs, mask=None):\n",
        "        causal_mask = self.get_causal_attention_mask(inputs)\n",
        "        if mask is not None:\n",
        "            padding_mask = tf.cast(mask[:, tf.newaxis, :], dtype=\"int32\")\n",
        "            padding_mask = tf.minimum(padding_mask, causal_mask)\n",
        "\n",
        "        attention_output_1 = self.attention_1(\n",
        "            query=inputs, value=inputs, key=inputs, attention_mask=causal_mask\n",
        "        )\n",
        "        out_1 = self.layernorm_1(inputs + attention_output_1)\n",
        "\n",
        "        attention_output_2 = self.attention_2(\n",
        "            query=out_1,\n",
        "            value=encoder_outputs,\n",
        "            key=encoder_outputs,\n",
        "            attention_mask=padding_mask,\n",
        "        )\n",
        "        out_2 = self.layernorm_2(out_1 + attention_output_2)\n",
        "\n",
        "        proj_output = self.dense_proj(out_2)\n",
        "        return self.layernorm_3(out_2 + proj_output)\n",
        "\n",
        "    def get_causal_attention_mask(self, inputs):\n",
        "        input_shape = tf.shape(inputs)\n",
        "        batch_size, sequence_length = input_shape[0], input_shape[1]\n",
        "        i = tf.range(sequence_length)[:, tf.newaxis]\n",
        "        j = tf.range(sequence_length)\n",
        "        mask = tf.cast(i >= j, dtype=\"int32\")\n",
        "        mask = tf.reshape(mask, (1, input_shape[1], input_shape[1]))\n",
        "        mult = tf.concat(\n",
        "            [tf.expand_dims(batch_size, -1), tf.constant([1, 1], dtype=tf.int32)],\n",
        "            axis=0,\n",
        "        )\n",
        "        return tf.tile(mask, mult)"
      ],
      "metadata": {
        "id": "XwWFBN8wf1Q_"
      },
      "execution_count": null,
      "outputs": []
    },
    {
      "cell_type": "markdown",
      "source": [
        "### 7.模型建構"
      ],
      "metadata": {
        "id": "kcpjjAN_j_r4"
      }
    },
    {
      "cell_type": "code",
      "source": [
        "embed_dim = 256\n",
        "latent_dim = 2048\n",
        "num_heads = 8\n",
        "\n",
        "encoder_inputs = keras.Input(shape=(None,), dtype=\"int64\", name=\"encoder_inputs\")\n",
        "x = PositionalEmbedding(sequence_length, vocab_size, embed_dim)(encoder_inputs)\n",
        "encoder_outputs = TransformerEncoder(embed_dim, latent_dim, num_heads)(x)\n",
        "encoder = keras.Model(encoder_inputs, encoder_outputs)\n",
        "\n",
        "decoder_inputs = keras.Input(shape=(None,), dtype=\"int64\", name=\"decoder_inputs\")\n",
        "encoded_seq_inputs = keras.Input(shape=(None, embed_dim), name=\"decoder_state_inputs\")\n",
        "x = PositionalEmbedding(sequence_length, vocab_size, embed_dim)(decoder_inputs)\n",
        "x = TransformerDecoder(embed_dim, latent_dim, num_heads)(x, encoded_seq_inputs)\n",
        "x = layers.Dropout(0.5)(x)\n",
        "decoder_outputs = layers.Dense(vocab_size, activation=\"softmax\")(x)\n",
        "decoder = keras.Model([decoder_inputs, encoded_seq_inputs], decoder_outputs)\n",
        "\n",
        "decoder_outputs = decoder([decoder_inputs, encoder_outputs])\n",
        "transformer = keras.Model(\n",
        "    [encoder_inputs, decoder_inputs], decoder_outputs, name=\"transformer\")"
      ],
      "metadata": {
        "id": "E42QbxMCf1Ow"
      },
      "execution_count": null,
      "outputs": []
    },
    {
      "cell_type": "markdown",
      "source": [
        "### 8.模型訓練"
      ],
      "metadata": {
        "id": "yOucnTq3kDsQ"
      }
    },
    {
      "cell_type": "code",
      "source": [
        "epochs = 30  # This should be at least 30 for convergence\n",
        "\n",
        "transformer.summary()\n",
        "transformer.compile(\n",
        "    \"rmsprop\", loss=\"sparse_categorical_crossentropy\", metrics=[\"accuracy\"]\n",
        ")\n",
        "transformer.fit(train_ds, epochs=epochs, validation_data=val_ds)"
      ],
      "metadata": {
        "colab": {
          "base_uri": "https://localhost:8080/"
        },
        "id": "ae4-Ev19f1Me",
        "outputId": "83bf692a-d318-40f5-870a-69d103f1d3e7"
      },
      "execution_count": null,
      "outputs": [
        {
          "output_type": "stream",
          "name": "stdout",
          "text": [
            "Model: \"transformer\"\n",
            "__________________________________________________________________________________________________\n",
            " Layer (type)                   Output Shape         Param #     Connected to                     \n",
            "==================================================================================================\n",
            " encoder_inputs (InputLayer)    [(None, None)]       0           []                               \n",
            "                                                                                                  \n",
            " positional_embedding (Position  (None, None, 256)   3845120     ['encoder_inputs[0][0]']         \n",
            " alEmbedding)                                                                                     \n",
            "                                                                                                  \n",
            " decoder_inputs (InputLayer)    [(None, None)]       0           []                               \n",
            "                                                                                                  \n",
            " transformer_encoder (Transform  (None, None, 256)   3155456     ['positional_embedding[0][0]']   \n",
            " erEncoder)                                                                                       \n",
            "                                                                                                  \n",
            " model_1 (Functional)           (None, None, 15000)  12959640    ['decoder_inputs[0][0]',         \n",
            "                                                                  'transformer_encoder[0][0]']    \n",
            "                                                                                                  \n",
            "==================================================================================================\n",
            "Total params: 19,960,216\n",
            "Trainable params: 19,960,216\n",
            "Non-trainable params: 0\n",
            "__________________________________________________________________________________________________\n",
            "Epoch 1/30\n",
            "1302/1302 [==============================] - 96s 71ms/step - loss: 1.3444 - accuracy: 0.5324 - val_loss: 1.1569 - val_accuracy: 0.5753\n",
            "Epoch 2/30\n",
            "1302/1302 [==============================] - 92s 71ms/step - loss: 1.1836 - accuracy: 0.5830 - val_loss: 1.0814 - val_accuracy: 0.6017\n",
            "Epoch 3/30\n",
            "1302/1302 [==============================] - 92s 71ms/step - loss: 1.0952 - accuracy: 0.6159 - val_loss: 1.0456 - val_accuracy: 0.6221\n",
            "Epoch 4/30\n",
            "1302/1302 [==============================] - 92s 70ms/step - loss: 1.0463 - accuracy: 0.6379 - val_loss: 1.0211 - val_accuracy: 0.6341\n",
            "Epoch 5/30\n",
            "1302/1302 [==============================] - 92s 70ms/step - loss: 1.0148 - accuracy: 0.6544 - val_loss: 1.0030 - val_accuracy: 0.6433\n",
            "Epoch 6/30\n",
            "1302/1302 [==============================] - 92s 70ms/step - loss: 0.9915 - accuracy: 0.6674 - val_loss: 0.9960 - val_accuracy: 0.6485\n",
            "Epoch 7/30\n",
            "1302/1302 [==============================] - 90s 69ms/step - loss: 0.9720 - accuracy: 0.6785 - val_loss: 0.9927 - val_accuracy: 0.6536\n",
            "Epoch 8/30\n",
            "1302/1302 [==============================] - 90s 69ms/step - loss: 0.9544 - accuracy: 0.6875 - val_loss: 0.9979 - val_accuracy: 0.6554\n",
            "Epoch 9/30\n",
            "1302/1302 [==============================] - 90s 69ms/step - loss: 0.9391 - accuracy: 0.6955 - val_loss: 0.9886 - val_accuracy: 0.6565\n",
            "Epoch 10/30\n",
            "1302/1302 [==============================] - 90s 69ms/step - loss: 0.9244 - accuracy: 0.7028 - val_loss: 0.9949 - val_accuracy: 0.6566\n",
            "Epoch 11/30\n",
            "1302/1302 [==============================] - 91s 69ms/step - loss: 0.9123 - accuracy: 0.7090 - val_loss: 0.9958 - val_accuracy: 0.6585\n",
            "Epoch 12/30\n",
            "1302/1302 [==============================] - 91s 69ms/step - loss: 0.8998 - accuracy: 0.7144 - val_loss: 0.9936 - val_accuracy: 0.6606\n",
            "Epoch 13/30\n",
            "1302/1302 [==============================] - 90s 69ms/step - loss: 0.8863 - accuracy: 0.7202 - val_loss: 0.9945 - val_accuracy: 0.6645\n",
            "Epoch 14/30\n",
            "1302/1302 [==============================] - 89s 69ms/step - loss: 0.8747 - accuracy: 0.7242 - val_loss: 0.9962 - val_accuracy: 0.6625\n",
            "Epoch 15/30\n",
            "1302/1302 [==============================] - 90s 69ms/step - loss: 0.8641 - accuracy: 0.7293 - val_loss: 0.9928 - val_accuracy: 0.6662\n",
            "Epoch 16/30\n",
            "1302/1302 [==============================] - 89s 69ms/step - loss: 0.8557 - accuracy: 0.7332 - val_loss: 1.0065 - val_accuracy: 0.6639\n",
            "Epoch 17/30\n",
            "1302/1302 [==============================] - 89s 69ms/step - loss: 0.8446 - accuracy: 0.7372 - val_loss: 1.0135 - val_accuracy: 0.6619\n",
            "Epoch 18/30\n",
            "1302/1302 [==============================] - 90s 69ms/step - loss: 0.8345 - accuracy: 0.7412 - val_loss: 1.0108 - val_accuracy: 0.6657\n",
            "Epoch 19/30\n",
            "1302/1302 [==============================] - 90s 69ms/step - loss: 0.8245 - accuracy: 0.7447 - val_loss: 1.0207 - val_accuracy: 0.6641\n",
            "Epoch 20/30\n",
            "1302/1302 [==============================] - 90s 69ms/step - loss: 0.8164 - accuracy: 0.7477 - val_loss: 1.0237 - val_accuracy: 0.6668\n",
            "Epoch 21/30\n",
            "1302/1302 [==============================] - 90s 69ms/step - loss: 0.8094 - accuracy: 0.7508 - val_loss: 1.0335 - val_accuracy: 0.6637\n",
            "Epoch 22/30\n",
            "1302/1302 [==============================] - 90s 69ms/step - loss: 0.8009 - accuracy: 0.7540 - val_loss: 1.0355 - val_accuracy: 0.6634\n",
            "Epoch 23/30\n",
            "1302/1302 [==============================] - 89s 69ms/step - loss: 0.7923 - accuracy: 0.7568 - val_loss: 1.0472 - val_accuracy: 0.6636\n",
            "Epoch 24/30\n",
            "1302/1302 [==============================] - 90s 69ms/step - loss: 0.7843 - accuracy: 0.7601 - val_loss: 1.0449 - val_accuracy: 0.6667\n",
            "Epoch 25/30\n",
            "1302/1302 [==============================] - 90s 69ms/step - loss: 0.7767 - accuracy: 0.7627 - val_loss: 1.0505 - val_accuracy: 0.6647\n",
            "Epoch 26/30\n",
            "1302/1302 [==============================] - 90s 69ms/step - loss: 0.7692 - accuracy: 0.7652 - val_loss: 1.0526 - val_accuracy: 0.6633\n",
            "Epoch 27/30\n",
            "1302/1302 [==============================] - 90s 69ms/step - loss: 0.7629 - accuracy: 0.7674 - val_loss: 1.0649 - val_accuracy: 0.6629\n",
            "Epoch 28/30\n",
            "1302/1302 [==============================] - 90s 69ms/step - loss: 0.7562 - accuracy: 0.7700 - val_loss: 1.0649 - val_accuracy: 0.6639\n",
            "Epoch 29/30\n",
            "1302/1302 [==============================] - 89s 69ms/step - loss: 0.7490 - accuracy: 0.7723 - val_loss: 1.0649 - val_accuracy: 0.6642\n",
            "Epoch 30/30\n",
            "1302/1302 [==============================] - 89s 69ms/step - loss: 0.7439 - accuracy: 0.7743 - val_loss: 1.0780 - val_accuracy: 0.6652\n"
          ]
        },
        {
          "output_type": "execute_result",
          "data": {
            "text/plain": [
              "<keras.callbacks.History at 0x7fe91bd4ea10>"
            ]
          },
          "metadata": {},
          "execution_count": 18
        }
      ]
    },
    {
      "cell_type": "markdown",
      "source": [
        "### 9.模型測試"
      ],
      "metadata": {
        "id": "ILNA46txkGaw"
      }
    },
    {
      "cell_type": "code",
      "source": [
        "spa_vocab = spa_vectorization.get_vocabulary()\n",
        "spa_index_lookup = dict(zip(range(len(spa_vocab)), spa_vocab))\n",
        "max_decoded_sentence_length = 20\n",
        "\n",
        "\n",
        "def decode_sequence(input_sentence):\n",
        "    tokenized_input_sentence = eng_vectorization([input_sentence])\n",
        "    decoded_sentence = \"[start]\"\n",
        "    for i in range(max_decoded_sentence_length):\n",
        "        tokenized_target_sentence = spa_vectorization([decoded_sentence])[:, :-1]\n",
        "        predictions = transformer([tokenized_input_sentence, tokenized_target_sentence])\n",
        "\n",
        "        sampled_token_index = np.argmax(predictions[0, i, :])\n",
        "        sampled_token = spa_index_lookup[sampled_token_index]\n",
        "        decoded_sentence += \" \" + sampled_token\n",
        "\n",
        "        if sampled_token == \"[end]\":\n",
        "            break\n",
        "    return decoded_sentence\n",
        "\n",
        "\n",
        "test_eng_texts = [pair[0] for pair in test_pairs]\n",
        "for _ in range(30):\n",
        "    input_sentence = random.choice(test_eng_texts)\n",
        "    print(_,\"input_sentence :\",input_sentence)\n",
        "    translated = decode_sequence(input_sentence)\n",
        "    print(_,\"translated :\",translated)"
      ],
      "metadata": {
        "colab": {
          "base_uri": "https://localhost:8080/"
        },
        "id": "UfjchdXMf1KF",
        "outputId": "8041a99a-5a8f-4db5-c9e6-ba2c60ec2e17"
      },
      "execution_count": null,
      "outputs": [
        {
          "output_type": "stream",
          "name": "stdout",
          "text": [
            "0 input_sentence : Tom said you'd be able to help me.\n",
            "0 translated : [start] tom dijo que tú podrías ayudarme [end]\n",
            "1 input_sentence : I'll stake my reputation on that.\n",
            "1 translated : [start] voy a mi de culpa a eso [end]\n",
            "2 input_sentence : Tom hasn't done anything to be ashamed of.\n",
            "2 translated : [start] tom no ha hecho nada de lo que importa [end]\n",
            "3 input_sentence : A strange man came up to me and asked for money.\n",
            "3 translated : [start] un hombre extraño se me sacó y se me pidió por el dinero [end]\n",
            "4 input_sentence : Tom doesn't smoke anymore.\n",
            "4 translated : [start] tom no estudia más [end]\n",
            "5 input_sentence : Tom was probably joking.\n",
            "5 translated : [start] probablemente tomás estaba [UNK] [end]\n",
            "6 input_sentence : Are you getting bored?\n",
            "6 translated : [start] te estás [UNK] [end]\n",
            "7 input_sentence : I thought Tom would stop by and say hello.\n",
            "7 translated : [start] pensé que tom se [UNK] y decir de las que se [UNK] [end]\n",
            "8 input_sentence : I bought 24 pencils.\n",
            "8 translated : [start] compré veinte de primos [end]\n",
            "9 input_sentence : That car is too expensive for me to buy.\n",
            "9 translated : [start] este auto es demasiado caro para comprar [end]\n",
            "10 input_sentence : Tom claims he shot Mary in self defense.\n",
            "10 translated : [start] tom le dio una [UNK] a mary en [UNK] [UNK] [end]\n",
            "11 input_sentence : Is hitchhiking prohibited in Australia?\n",
            "11 translated : [start] está [UNK] en australia [end]\n",
            "12 input_sentence : She lost her handbag.\n",
            "12 translated : [start] ella perdió su bolsa [end]\n",
            "13 input_sentence : I would like to drink a coffee.\n",
            "13 translated : [start] me gustaría beber un café [end]\n",
            "14 input_sentence : I used to eat like a pig.\n",
            "14 translated : [start] yo solía comer como un sospechoso [end]\n",
            "15 input_sentence : I'm afraid to go alone.\n",
            "15 translated : [start] me tengo miedo de ir solo [end]\n",
            "16 input_sentence : Tom wants to eat fried rice.\n",
            "16 translated : [start] tom quiere comer arroz caliente [end]\n",
            "17 input_sentence : What're you drinking?\n",
            "17 translated : [start] qué estás haciendo [end]\n",
            "18 input_sentence : The rainy weather lasted for ten days straight.\n",
            "18 translated : [start] el tiempo al final llegó por una hora [UNK] [end]\n",
            "19 input_sentence : Now we have to be very careful.\n",
            "19 translated : [start] ahora tenemos que ser muy [UNK] [end]\n",
            "20 input_sentence : He was snoring loudly while he slept.\n",
            "20 translated : [start] Él estaba [UNK] fuerte como dormido de lo [UNK] [end]\n",
            "21 input_sentence : Tom bought a gift for Mary.\n",
            "21 translated : [start] tom le compró un regalo a mary [end]\n",
            "22 input_sentence : The enemy of my enemy is my friend.\n",
            "22 translated : [start] el enemigo de mi enemigo es mi amigo [end]\n",
            "23 input_sentence : The problem is that that boy never does what he is told to do.\n",
            "23 translated : [start] el problema es ese niño en lo que hace se le dice que haga [end]\n",
            "24 input_sentence : I'll call him back later.\n",
            "24 translated : [start] lo voy a llamar después [end]\n",
            "25 input_sentence : I have a tourist visa.\n",
            "25 translated : [start] tengo un trabajo de un trabajo de un [UNK] [end]\n",
            "26 input_sentence : I think I see the problem.\n",
            "26 translated : [start] creo que veo el problema [end]\n",
            "27 input_sentence : I got arrested.\n",
            "27 translated : [start] yo [UNK] [end]\n",
            "28 input_sentence : If I had more money, I could move to a bigger house.\n",
            "28 translated : [start] si hubiese tenido más dinero podría a un gran día [end]\n",
            "29 input_sentence : This message doesn't make sense.\n",
            "29 translated : [start] el mensaje no tiene caso de caso [end]\n"
          ]
        }
      ]
    },
    {
      "cell_type": "code",
      "source": [
        ""
      ],
      "metadata": {
        "id": "SNkztDWQftwU"
      },
      "execution_count": null,
      "outputs": []
    }
  ]
}